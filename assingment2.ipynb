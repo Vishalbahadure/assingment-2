{
 "cells": [
  {
   "cell_type": "code",
   "execution_count": null,
   "id": "b11e009e-1d69-4b64-a3f5-0b2a91ec639c",
   "metadata": {},
   "outputs": [],
   "source": [
    "Q1.Which keyword is used to create a function? Create a function to return a list of odd numbers in the\n",
    "range of 1 to 25.\n",
    "The def keyword is used to create, (or define) a function.\n",
    "program:\n",
    "    lower=int(input(\"Enter the lower limit for the range:\"))\n",
    "upper=int(input(\"Enter the upper limit for the range:\"))\n",
    "for i in range(lower,upper+1):\n",
    "    if(i%2!=0):\n",
    "        print(i)\n",
    "​\n",
    "\n",
    "\n",
    "\n",
    "​\n",
    "    \n",
    "​\n"
   ]
  },
  {
   "cell_type": "code",
   "execution_count": null,
   "id": "738bd24f-5322-4c57-b4f2-c035396570a2",
   "metadata": {},
   "outputs": [],
   "source": [
    "Q2. Why *args and **kwargs is used in some functions? Create a function each for *args and **kwargs\n",
    "to demonstrate their use.\n",
    "You can use *args and **kwargs as arguments of a function when you are unsure about the number of arguments to pass in the functions.\n",
    "Function:\n",
    "    def myFun(*argv):\n",
    "    for arg in argv:\n",
    "        print(arg)\n",
    "myFun('Hello', 'Welcome', 'to', 'aurangabad')\n",
    "​\n",
    "Function:\n",
    "    def myFun(**kwargs):\n",
    "    for key, value in kwargs.items():\n",
    "        print(\"%s == %s\" % (key, value))\n",
    "myFun(first='vishal', mid='for', last='vishal')\n",
    "​"
   ]
  },
  {
   "cell_type": "code",
   "execution_count": null,
   "id": "8af8b997-72c7-46b7-ba62-3fe7d328b22e",
   "metadata": {},
   "outputs": [],
   "source": [
    "Q3. What is an iterator in python? Name the method used to initialise the iterator object and the method\n",
    "used for iteration. Use these methods to print the first five elements of the given list [2, 4, 6, 8, 10, 12, 14,\n",
    "16, 18, 20].\n",
    "An iterator is an object that contains a countable number of values. \n",
    "example:\n",
    "    To iterate over a list in Python, you can create an iterator object using the iter() method, and then use the next() method to retrieve the elements of the list one by one.\n",
    "​\n",
    "Here is an example code snippet to print the first five elements of the given list:\n",
    "​\n",
    "my_list = [2, 4, 6, 8, 10, 12, 14, 16, 18, 20]\n",
    "​\n",
    "​\n",
    "my_iterator = iter(my_list)\n",
    "for i in range(5):\n",
    "    \n",
    "    element = next(my_iterator)\n",
    "   \n",
    "    print(element)\n",
    "​"
   ]
  },
  {
   "cell_type": "code",
   "execution_count": null,
   "id": "8485a318-d6e9-4f99-9e47-a85a3496f863",
   "metadata": {},
   "outputs": [],
   "source": [
    "Q4. What is a generator function in python? Why yield keyword is used? Give an example of a generator\n",
    "function.\n",
    "In Python, a generator is a function that returns an iterator that produces a sequence of values when iterated over.\n",
    "he yield keyword in Python is used in generator functions to produce a sequence of values. When a generator function is called, it returns a generator object, which can be used to iterate over the values produced by the generator function.\n",
    "Example:\n",
    "    def fibonacci():\n",
    "    a, b = 0, 1\n",
    "    while True:\n",
    "        yield a\n",
    "        a, b = b, a + b"
   ]
  },
  {
   "cell_type": "code",
   "execution_count": null,
   "id": "4ad83216-a9ad-46f6-a839-7823088bbf4e",
   "metadata": {},
   "outputs": [],
   "source": [
    "Q5. Create a generator function for prime numbers less than 1000. Use the next() method to print the\n",
    "first 20 prime numbers.\n",
    "program:\n",
    "    def prime_numbers():\n",
    "    num = 2\n",
    "    while num < 1000:\n",
    "        is_prime = True\n",
    "        for i in range(2, num):\n",
    "            if num % i == 0:\n",
    "                is_prime = False\n",
    "                break\n",
    "\n",
    "        if is_prime:\n",
    "            yield num\n",
    "        num += 1\n"
   ]
  },
  {
   "cell_type": "code",
   "execution_count": null,
   "id": "612da463-a488-455c-beba-64b2d150c246",
   "metadata": {},
   "outputs": [],
   "source": [
    "Q6. Write a python program to print the first 10 Fibonacci numbers using a while loop.\n",
    "program:\n",
    "    a, b = 0, 1\n",
    "\n",
    "count = 0\n",
    "\n",
    "while count < 10:\n",
    "    print(a, end=\" \")\n",
    "\n",
    "    a, b = b, a + b\n",
    "\n",
    "    count += 1\n"
   ]
  },
  {
   "cell_type": "code",
   "execution_count": null,
   "id": "fab82e38-ff3d-4f01-a130-b36c43add24b",
   "metadata": {},
   "outputs": [],
   "source": [
    "Q7.Write a List Comprehension to iterate through the given string: ‘pwskills’.\n",
    "Expected output: ['p', 'w', 's', 'k', 'i', 'l', 'l', 's']\n",
    "program:\n",
    "    string = 'pwskills'\n",
    "\n",
    "output_list = [char for char in string if char in 'pwskill']\n",
    "\n",
    "print(output_list)\n",
    "  \n",
    "output:\n",
    "    ['p', 'w', 's', 'k', 'i', 'l', 'l', 's']\n",
    "\n",
    "    "
   ]
  },
  {
   "cell_type": "code",
   "execution_count": null,
   "id": "262d74e8-8e58-4d07-82a4-bb6b2b4ec235",
   "metadata": {},
   "outputs": [],
   "source": [
    "Q8. Write a python program to check whether a given number is Palindrome or not using a while loop.\n",
    "program:\n",
    "    num = int(input(\"Enter a number: \"))\n",
    "original_num = num\n",
    "reversed_num = 0\n",
    "while num > 0:\n",
    "    digit = num % 10\n",
    "    reversed_num = reversed_num * 10 + digit\n",
    "    num //= 10\n",
    "if original_num == reversed_num:\n",
    "    print(f\"{original_num} is a palindrome\")\n",
    "else:\n",
    "    print(f\"{original_num} is not a palindrome\")\n"
   ]
  },
  {
   "cell_type": "code",
   "execution_count": null,
   "id": "474b060c-c3a9-4a45-b786-3236a377b89c",
   "metadata": {},
   "outputs": [],
   "source": [
    "Q9. Write a code to print odd numbers from 1 to 100 using list comprehension.\n",
    "program:\n",
    "    odd_numbers = [num for num in range(1, 101) if num % 2 != 0]\n",
    "\n",
    "print(odd_numbers)\n",
    "\n",
    "output:\n",
    "    [1, 3, 5, 7, 9, 11, 13, 15, 17, 19, 21, 23, 25, 27, 29, 31, 33, 35, 37, 39, 41, 43, 45, 47, 49, 51, 53, 55, 57, 59, 61, 63, 65, 67, 69, 71, 73, 75, 77, 79, 81, 83, 85, 87, 89, 91, 93\n"
   ]
  }
 ],
 "metadata": {
  "kernelspec": {
   "display_name": "Python 3 (ipykernel)",
   "language": "python",
   "name": "python3"
  },
  "language_info": {
   "codemirror_mode": {
    "name": "ipython",
    "version": 3
   },
   "file_extension": ".py",
   "mimetype": "text/x-python",
   "name": "python",
   "nbconvert_exporter": "python",
   "pygments_lexer": "ipython3",
   "version": "3.10.8"
  }
 },
 "nbformat": 4,
 "nbformat_minor": 5
}
